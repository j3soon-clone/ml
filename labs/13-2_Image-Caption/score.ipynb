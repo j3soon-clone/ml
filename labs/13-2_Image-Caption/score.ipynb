{
 "cells": [
  {
   "cell_type": "code",
   "execution_count": 26,
   "metadata": {
    "collapsed": true
   },
   "outputs": [],
   "source": [
    "import os\n",
    "import numpy as np\n",
    "import pandas as pd\n",
    "import glob\n",
    "from sklearn.metrics import accuracy_score"
   ]
  },
  {
   "cell_type": "code",
   "execution_count": 2,
   "metadata": {
    "collapsed": true
   },
   "outputs": [],
   "source": [
    "import os\n",
    "file_1 = os.listdir(\"./hw_1\")\n",
    "file_2 = os.listdir(\"./hw_2\")"
   ]
  },
  {
   "cell_type": "code",
   "execution_count": 3,
   "metadata": {
    "collapsed": true
   },
   "outputs": [],
   "source": [
    "student_file_1 = []\n",
    "student_file_2 = []\n",
    "for file in file_1:\n",
    "    student_file_1.append(glob.glob(\"./hw_1/\"+ file +\"/*.txt\"))\n",
    "for file in file_2:\n",
    "    student_file_2.append(glob.glob(\"./hw_2/\"+ file +\"/*.txt\"))"
   ]
  },
  {
   "cell_type": "code",
   "execution_count": 24,
   "metadata": {
    "collapsed": true
   },
   "outputs": [],
   "source": [
    "y_true=[]\n",
    "label = pd.read_csv('./spec.txt', delimiter=' ', header=None)\n",
    "label = label[120000:]\n",
    "for index, row in label.iterrows():\n",
    "    y_true.append(row[1])\n"
   ]
  },
  {
   "cell_type": "code",
   "execution_count": 34,
   "metadata": {
    "scrolled": true
   },
   "outputs": [
    {
     "data": {
      "text/plain": [
       "[['./hw_1/108062621/Lab13-2_108062621.txt'],\n",
       " ['./hw_1/109062671/Lab13-2_109062671.txt'],\n",
       " ['./hw_1/106062116/Lab13-2_106062116.txt'],\n",
       " ['./hw_1/109065535/Lab13-2_109065535.txt'],\n",
       " ['./hw_1/107062312/Lab13-2_107062312.txt'],\n",
       " ['./hw_1/108062648/Lab13-2_108062648.txt'],\n",
       " ['./hw_1/108024508/Lab13-2_108024508.txt'],\n",
       " ['./hw_1/106061203/output_106061203.txt'],\n",
       " ['./hw_1/108133505/Lab13-2_108133505.txt'],\n",
       " ['./hw_1/109065523/Lab13-2_109065523.txt'],\n",
       " ['./hw_1/106060024/Lab13-2_106060024.txt'],\n",
       " ['./hw_1/108024522/Lab13-2_108024522.txt'],\n",
       " ['./hw_1/106060019/Lab13-2_106060019.txt'],\n",
       " ['./hw_1/106034061/Lab13-2_106034061.txt'],\n",
       " ['./hw_1/106062216/Lab13-2_106062216.txt'],\n",
       " ['./hw_1/106060011/Lab13-2_106060011.txt']]"
      ]
     },
     "execution_count": 34,
     "metadata": {},
     "output_type": "execute_result"
    }
   ],
   "source": [
    "student_file_1"
   ]
  },
  {
   "cell_type": "code",
   "execution_count": 58,
   "metadata": {
    "collapsed": true
   },
   "outputs": [],
   "source": [
    "accuracy = []\n",
    "for file in student_file_1:\n",
    "    y_pred = []\n",
    "    df = pd.read_csv(file[0], sep=' ', header=None)\n",
    "    for index, row in df.iterrows():\n",
    "        y_pred.append(row[1])\n",
    "    if (len(y_pred)==20000):\n",
    "        accuracy.append(accuracy_score(y_true, y_pred))\n",
    "    else:\n",
    "        accuracy.append(0)\n",
    "    \n",
    "    "
   ]
  },
  {
   "cell_type": "code",
   "execution_count": 67,
   "metadata": {
    "collapsed": true
   },
   "outputs": [],
   "source": [
    "scores = {}\n",
    "for name, score in zip(file_1, accuracy):\n",
    "    scores[str(name)] = score"
   ]
  },
  {
   "cell_type": "code",
   "execution_count": 68,
   "metadata": {
    "scrolled": true
   },
   "outputs": [
    {
     "data": {
      "text/plain": [
       "{'106034061': 0.9731,\n",
       " '106060011': 0.90815,\n",
       " '106060019': 0.8963,\n",
       " '106060024': 0,\n",
       " '106061203': 0.9738,\n",
       " '106062116': 0.9626,\n",
       " '106062216': 0.9823,\n",
       " '107062312': 0.00035,\n",
       " '108024508': 0.95855,\n",
       " '108024522': 0.90795,\n",
       " '108062621': 0.0001,\n",
       " '108062648': 0.9854,\n",
       " '108133505': 0.96875,\n",
       " '109062671': 0.99675,\n",
       " '109065523': 0,\n",
       " '109065535': 0.618}"
      ]
     },
     "execution_count": 68,
     "metadata": {},
     "output_type": "execute_result"
    }
   ],
   "source": [
    "scores"
   ]
  },
  {
   "cell_type": "code",
   "execution_count": 71,
   "metadata": {
    "scrolled": false
   },
   "outputs": [
    {
     "data": {
      "text/plain": [
       "[['./hw_2/109062552/Lab13-2_109062552.txt'],\n",
       " [],\n",
       " ['./hw_2/109062594/Lab13-2_109062594.txt'],\n",
       " ['./hw_2/108024512/Lab13-2_108024512.txt'],\n",
       " ['./hw_2/107024701/Lab13-2_107024701.txt'],\n",
       " ['./hw_2/109062659/Lab13-2_109062659.txt'],\n",
       " ['./hw_2/108024506/Lab13-2_108024506.txt'],\n",
       " ['./hw_2/109062534/Lab13-2_109062534.txt'],\n",
       " ['./hw_2/107024520/Lab13-2_107024520.txt'],\n",
       " ['./hw_2/108024518/Lab13-2_108024518.txt'],\n",
       " ['./hw_2/108024519/lab13-2_108024519.txt'],\n",
       " ['./hw_2/107062312/Lab13-2_107062312.txt'],\n",
       " [],\n",
       " ['./hw_2/109062582/Lab13-2_109062582.txt'],\n",
       " ['./hw_2/109062573/Lab13-2_109062573.txt'],\n",
       " ['./hw_2/107024703/Lab13-2_107024703.txt'],\n",
       " ['./hw_2/108024521/Lab13-2_108024521.txt'],\n",
       " ['./hw_2/106033211/answer.txt'],\n",
       " ['./hw_2/109062517/Lab13-2_109062517.txt'],\n",
       " [],\n",
       " ['./hw_2/109062549/Lab13-2_109062549.txt'],\n",
       " ['./hw_2/108062705/Lab13-2_108062705.txt'],\n",
       " ['./hw_2/106020013/Lab13-2_106020013.txt'],\n",
       " ['./hw_2/106062313/Lab13-2_106062313.txt'],\n",
       " ['./hw_2/108062592/Lab13-2_108062592.txt'],\n",
       " [],\n",
       " [],\n",
       " ['./hw_2/109062649/Lab13-2_109062649.txt'],\n",
       " ['./hw_2/108065425/Lab13-2_108065425.txt'],\n",
       " ['./hw_2/108024514/Lab13-2_108024514.txt'],\n",
       " ['./hw_2/107062223/Lab13-2_107062223.txt'],\n",
       " ['./hw_2/108024515/Lab13-2_108024515.txt'],\n",
       " ['./hw_2/109062508/Lab13-2_109062508.txt'],\n",
       " ['./hw_2/108062510/Lab13-2_108062510.txt'],\n",
       " ['./hw_2/109065523/Lab13-2_109065523.txt'],\n",
       " ['./hw_2/109062662/Lab13-2_109062662.txt'],\n",
       " ['./hw_2/108024517/test_prediction.txt'],\n",
       " ['./hw_2/108024522/Lab13-2_108024522.txt'],\n",
       " [],\n",
       " [],\n",
       " ['./hw_2/109062506/Lab13-2_109062506.txt'],\n",
       " ['./hw_2/106033233/Lab13-2_106033233.txt'],\n",
       " ['./hw_2/108024507/lab13-2_108024507.txt'],\n",
       " ['./hw_2/106012017/Lab13-2_106012017.txt'],\n",
       " ['./hw_2/106003854/Lab13-2_106003854.txt'],\n",
       " ['./hw_2/109062559/Lab13-2_109062559.txt'],\n",
       " ['./hw_2/108062630/Lab13-2_108062630.txt'],\n",
       " [],\n",
       " ['./hw_2/108024510/Lab13-2_108024510.txt'],\n",
       " ['./hw_2/109062562/Lab13-2_109062562.txt'],\n",
       " ['./hw_2/109065511/Lab13-2_109065511.txt'],\n",
       " []]"
      ]
     },
     "execution_count": 71,
     "metadata": {},
     "output_type": "execute_result"
    }
   ],
   "source": [
    "student_file_2"
   ]
  },
  {
   "cell_type": "code",
   "execution_count": 102,
   "metadata": {
    "collapsed": true
   },
   "outputs": [],
   "source": [
    "accuracy_2 = []\n",
    "for file in student_file_2:\n",
    "    y_pred = []\n",
    "    if file:\n",
    "        df = pd.read_csv(file[0], sep=' ', header=None)\n",
    "        for index, row in df.iterrows():\n",
    "            if len(row) > 2:\n",
    "                y_pred.append(row[2])\n",
    "            else:\n",
    "                y_pred.append(row[1])\n",
    "        if (len(y_pred)==20000):\n",
    "            accuracy_2.append(accuracy_score(y_true, y_pred))\n",
    "        else:\n",
    "            accuracy_2.append(0)\n",
    "    else:\n",
    "        accuracy_2.append(-1)"
   ]
  },
  {
   "cell_type": "code",
   "execution_count": 104,
   "metadata": {
    "collapsed": true
   },
   "outputs": [],
   "source": [
    "scores_2 = {}\n",
    "for name, score in zip(file_2, accuracy_2):\n",
    "    scores_2[str(name)] = score"
   ]
  },
  {
   "cell_type": "code",
   "execution_count": 105,
   "metadata": {},
   "outputs": [
    {
     "data": {
      "text/plain": [
       "{'105066802': -1,\n",
       " '106003854': 0.0003,\n",
       " '106011105': -1,\n",
       " '106012017': 0,\n",
       " '106020013': 0.55885,\n",
       " '106033211': 0.98285,\n",
       " '106033233': 0.00045,\n",
       " '106034061': -1,\n",
       " '106060011': -1,\n",
       " '106060019': -1,\n",
       " '106061203': -1,\n",
       " '106062313': 0.98025,\n",
       " '107024520': 0.0,\n",
       " '107024701': 0.91285,\n",
       " '107024703': 0.9563,\n",
       " '107062223': 0.9261,\n",
       " '107062312': 0.00025,\n",
       " '108024506': 0.0,\n",
       " '108024507': 0.95785,\n",
       " '108024510': 0,\n",
       " '108024512': 0.9584,\n",
       " '108024514': 0.9489,\n",
       " '108024515': 0.9124,\n",
       " '108024517': 0.9533,\n",
       " '108024518': 0.9524,\n",
       " '108024519': 0.95785,\n",
       " '108024521': 0.9332,\n",
       " '108024522': 0,\n",
       " '108062510': 0.9425,\n",
       " '108062592': 0.9088,\n",
       " '108062630': 0.8814,\n",
       " '108062648': -1,\n",
       " '108062705': 0.92775,\n",
       " '108065425': 0.98145,\n",
       " '109062506': 0.9913,\n",
       " '109062508': 0.98,\n",
       " '109062517': 0.91565,\n",
       " '109062534': 0,\n",
       " '109062549': 0.97825,\n",
       " '109062552': 0.95355,\n",
       " '109062559': 0.96185,\n",
       " '109062562': 0.97535,\n",
       " '109062573': 0.974,\n",
       " '109062582': 0,\n",
       " '109062594': 0.9839,\n",
       " '109062649': 0.96605,\n",
       " '109062659': 0.94675,\n",
       " '109062662': 0.92695,\n",
       " '109062671': -1,\n",
       " '109065509': -1,\n",
       " '109065511': 0.96885,\n",
       " '109065523': 0}"
      ]
     },
     "execution_count": 105,
     "metadata": {},
     "output_type": "execute_result"
    }
   ],
   "source": [
    "scores_2"
   ]
  },
  {
   "cell_type": "code",
   "execution_count": null,
   "metadata": {
    "collapsed": true
   },
   "outputs": [],
   "source": []
  }
 ],
 "metadata": {
  "kernelspec": {
   "display_name": "Python 3",
   "language": "python",
   "name": "python3"
  },
  "language_info": {
   "codemirror_mode": {
    "name": "ipython",
    "version": 3
   },
   "file_extension": ".py",
   "mimetype": "text/x-python",
   "name": "python",
   "nbconvert_exporter": "python",
   "pygments_lexer": "ipython3",
   "version": "3.6.9"
  }
 },
 "nbformat": 4,
 "nbformat_minor": 2
}
