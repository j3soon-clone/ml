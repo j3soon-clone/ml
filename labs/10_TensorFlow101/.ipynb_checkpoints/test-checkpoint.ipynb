{
 "cells": [
  {
   "cell_type": "code",
   "execution_count": 1,
   "metadata": {},
   "outputs": [],
   "source": [
    "from sklearn.datasets import fetch_openml\n",
    "from sklearn.metrics import classification_report, confusion_matrix\n",
    "import matplotlib.pyplot as plt\n",
    "import numpy as np"
   ]
  },
  {
   "cell_type": "code",
   "execution_count": 2,
   "metadata": {},
   "outputs": [],
   "source": [
    "# Helper function\n",
    "def show_images(image, num_row=2, num_col=5):\n",
    "    # plot images\n",
    "    image_size = int(np.sqrt(image.shape[-1]))\n",
    "    image = np.reshape(image, (image.shape[0], image_size, image_size))\n",
    "    fig, axes = plt.subplots(num_row, num_col, figsize=(1.5*num_col,2*num_row))\n",
    "    for i in range(num_row*num_col):\n",
    "        ax = axes[i//num_col, i%num_col]\n",
    "        ax.imshow(image[i], cmap='gray', vmin=0, vmax=1)\n",
    "        ax.axis('off')\n",
    "    plt.tight_layout()\n",
    "    plt.show()\n",
    "    \n",
    "def one_hot(x, k, dtype=np.float32):\n",
    "    \"\"\"Create a one-hot encoding of x of size k.\"\"\"\n",
    "    return np.array(x[:, None] == np.arange(k), dtype)"
   ]
  },
  {
   "cell_type": "code",
   "execution_count": 3,
   "metadata": {},
   "outputs": [],
   "source": [
    "# # Load data\n",
    "# mnist_data = fetch_openml(\"mnist_784\")\n",
    "# X = mnist_data[\"data\"]\n",
    "# y = mnist_data[\"target\"]\n",
    "\n",
    "# # Normalize\n",
    "# X /= 255.0\n",
    "\n",
    "# # One-hot encode labels\n",
    "# digits = 10\n",
    "# examples = y.shape[0]\n",
    "# y = y.reshape(1, examples)\n",
    "# Y_new = np.eye(digits)[y.astype('int32')]\n",
    "# Y_new = Y_new.T.reshape(digits, examples)\n",
    "\n",
    "# # Split, reshape, shuffle\n",
    "# m = 60000\n",
    "# m_test = X.shape[0] - m\n",
    "# X_train, X_test = X[:m].T, X[m:].T\n",
    "# Y_train, Y_test = Y_new[:,:m], Y_new[:,m:]\n",
    "# shuffle_index = np.random.permutation(m)\n",
    "# X_train, Y_train = X_train[:, shuffle_index], Y_train[:, shuffle_index]"
   ]
  },
  {
   "cell_type": "code",
   "execution_count": 4,
   "metadata": {},
   "outputs": [],
   "source": [
    "# Load data\n",
    "mnist_data = fetch_openml(\"mnist_784\")\n",
    "X = mnist_data[\"data\"]\n",
    "y = mnist_data[\"target\"]\n",
    "\n",
    "# Normalize\n",
    "X /= 255.0\n",
    "\n",
    "# One-hot encode labels\n",
    "num_labels = 10\n",
    "examples = y.shape[0]\n",
    "Y_new = one_hot(y.astype('int32'), num_labels)\n",
    "\n",
    "# Split, reshape, shuffle\n",
    "m = 60000\n",
    "m_test = X.shape[0] - m\n",
    "X_train, X_test = X[:m], X[m:]\n",
    "Y_train, Y_test = Y_new[:m], Y_new[m:]\n",
    "shuffle_index = np.random.permutation(m)\n",
    "X_train, Y_train = X_train[shuffle_index], Y_train[shuffle_index]"
   ]
  },
  {
   "cell_type": "code",
   "execution_count": 5,
   "metadata": {},
   "outputs": [
    {
     "name": "stdout",
     "output_type": "stream",
     "text": [
      "Training data: (60000, 784) (60000, 10)\n",
      "Test data: (10000, 784) (10000, 10)\n"
     ]
    },
    {
     "data": {
      "image/png": "[encoded data removed]",
      "text/plain": [
       "<Figure size 540x288 with 10 Axes>"
      ]
     },
     "metadata": {
      "needs_background": "light"
     },
     "output_type": "display_data"
    }
   ],
   "source": [
    "print(\"Training data: {} {}\".format(X_train.shape, Y_train.shape))\n",
    "print(\"Test data: {} {}\".format(X_test.shape, Y_test.shape))\n",
    "show_images(X_train)"
   ]
  },
  {
   "cell_type": "code",
   "execution_count": 9,
   "metadata": {},
   "outputs": [],
   "source": [
    "def sigmoid(z):\n",
    "    s = 1. / (1. + np.exp(-z))\n",
    "    return s\n",
    "\n",
    "def compute_loss(Y, Y_hat):\n",
    "    L_sum = np.sum(np.multiply(Y.T, np.log(Y_hat)))\n",
    "    m = Y.shape[0]\n",
    "    L = -(1./m) * L_sum\n",
    "    return L\n",
    "\n",
    "def feed_forward(X, params):\n",
    "    cache = {}\n",
    "    \n",
    "    cache[\"Z1\"] = np.matmul(params[\"W1\"], X.T) + params[\"b1\"]\n",
    "    cache[\"A1\"] = sigmoid(cache[\"Z1\"])\n",
    "    cache[\"Z2\"] = np.matmul(params[\"W2\"], cache[\"A1\"]) + params[\"b2\"]\n",
    "    cache[\"A2\"] = np.exp(cache[\"Z2\"]) / np.sum(np.exp(cache[\"Z2\"]), axis=0)\n",
    "    return cache\n",
    "\n",
    "def back_propagate(X, Y, params, cache):\n",
    "\n",
    "    dZ2 = cache[\"A2\"] - Y.T\n",
    "    dW2 = (1./m_batch) * np.matmul(dZ2, cache[\"A1\"].T)\n",
    "    db2 = (1./m_batch) * np.sum(dZ2, axis=1, keepdims=True)\n",
    "\n",
    "    dA1 = np.matmul(params[\"W2\"].T, dZ2)\n",
    "    dZ1 = dA1 * sigmoid(cache[\"Z1\"]) * (1 - sigmoid(cache[\"Z1\"]))\n",
    "    dW1 = (1./m_batch) * np.matmul(dZ1, X)\n",
    "    db1 = (1./m_batch) * np.sum(dZ1, axis=1, keepdims=True)\n",
    "\n",
    "    grads = {\"dW1\": dW1, \"db1\": db1, \"dW2\": dW2, \"db2\": db2}\n",
    "    return grads"
   ]
  },
  {
   "cell_type": "code",
   "execution_count": 10,
   "metadata": {},
   "outputs": [
    {
     "name": "stdout",
     "output_type": "stream",
     "text": [
      "Epoch 1: training cost = 0.1541803267358213, test cost = 0.15715688696201674\n",
      "Epoch 2: training cost = 0.10262011931539497, test cost = 0.11958428069863053\n",
      "Epoch 3: training cost = 0.07663896237024406, test cost = 0.10239649166916548\n",
      "Epoch 4: training cost = 0.06474270380503465, test cost = 0.0996642106159107\n",
      "Epoch 5: training cost = 0.0596661278954504, test cost = 0.10011784246696993\n",
      "Epoch 6: training cost = 0.04681485144501212, test cost = 0.09536542681736174\n",
      "Epoch 7: training cost = 0.0359436983169524, test cost = 0.08565113759599792\n",
      "Epoch 8: training cost = 0.032863108582662275, test cost = 0.08619051423672576\n",
      "Epoch 9: training cost = 0.030537329111608467, test cost = 0.08550132228536747\n",
      "Done.\n"
     ]
    }
   ],
   "source": [
    "np.random.seed(138)\n",
    "\n",
    "# hyperparameters\n",
    "n_x = X_train.shape[1]\n",
    "n_h = 64\n",
    "learning_rate = 4\n",
    "beta = .9\n",
    "batch_size = 128\n",
    "batches = -(-m // batch_size)\n",
    "\n",
    "# initialization\n",
    "params = { \"W1\": np.random.randn(n_h, n_x) * np.sqrt(1. / n_x),\n",
    "           \"b1\": np.zeros((n_h, 1)) * np.sqrt(1. / n_x),\n",
    "           \"W2\": np.random.randn(num_labels, n_h) * np.sqrt(1. / n_h),\n",
    "           \"b2\": np.zeros((num_labels, 1)) * np.sqrt(1. / n_h) }\n",
    "\n",
    "V_dW1 = np.zeros(params[\"W1\"].shape)\n",
    "V_db1 = np.zeros(params[\"b1\"].shape)\n",
    "V_dW2 = np.zeros(params[\"W2\"].shape)\n",
    "V_db2 = np.zeros(params[\"b2\"].shape)\n",
    "\n",
    "# train\n",
    "for i in range(9):\n",
    "\n",
    "    permutation = np.random.permutation(X_train.shape[0])\n",
    "    X_train_shuffled = X_train[permutation]\n",
    "    Y_train_shuffled = Y_train[permutation]\n",
    "\n",
    "    for j in range(batches):\n",
    "        begin = j * batch_size\n",
    "        end = min(begin + batch_size, X_train.shape[0] - 1)\n",
    "        X = X_train_shuffled[begin:end]\n",
    "        Y = Y_train_shuffled[begin:end]\n",
    "        m_batch = end - begin\n",
    "\n",
    "        cache = feed_forward(X, params)\n",
    "        grads = back_propagate(X, Y, params, cache)\n",
    "\n",
    "        V_dW1 = (beta * V_dW1 + (1. - beta) * grads[\"dW1\"])\n",
    "        V_db1 = (beta * V_db1 + (1. - beta) * grads[\"db1\"])\n",
    "        V_dW2 = (beta * V_dW2 + (1. - beta) * grads[\"dW2\"])\n",
    "        V_db2 = (beta * V_db2 + (1. - beta) * grads[\"db2\"])\n",
    "\n",
    "        params[\"W1\"] = params[\"W1\"] - learning_rate * V_dW1\n",
    "        params[\"b1\"] = params[\"b1\"] - learning_rate * V_db1\n",
    "        params[\"W2\"] = params[\"W2\"] - learning_rate * V_dW2\n",
    "        params[\"b2\"] = params[\"b2\"] - learning_rate * V_db2\n",
    "\n",
    "    cache = feed_forward(X_train, params)\n",
    "    train_cost = compute_loss(Y_train, cache[\"A2\"])\n",
    "    cache = feed_forward(X_test, params)\n",
    "    test_cost = compute_loss(Y_test, cache[\"A2\"])\n",
    "    print(\"Epoch {}: training cost = {}, test cost = {}\".format(i+1 ,train_cost, test_cost))\n",
    "\n",
    "print(\"Done.\")"
   ]
  },
  {
   "cell_type": "code",
   "execution_count": 15,
   "metadata": {},
   "outputs": [
    {
     "name": "stdout",
     "output_type": "stream",
     "text": [
      "              precision    recall  f1-score   support\n",
      "\n",
      "           0       0.99      0.98      0.99       992\n",
      "           1       0.99      0.99      0.99      1132\n",
      "           2       0.99      0.95      0.97      1066\n",
      "           3       0.96      0.98      0.97       984\n",
      "           4       0.97      0.97      0.97       983\n",
      "           5       0.98      0.97      0.97       901\n",
      "           6       0.97      0.99      0.98       943\n",
      "           7       0.96      0.98      0.97      1008\n",
      "           8       0.96      0.98      0.97       962\n",
      "           9       0.97      0.96      0.96      1029\n",
      "\n",
      "    accuracy                           0.97     10000\n",
      "   macro avg       0.97      0.97      0.97     10000\n",
      "weighted avg       0.97      0.97      0.97     10000\n",
      "\n"
     ]
    }
   ],
   "source": [
    "cache = feed_forward(X_test, params)\n",
    "predictions = np.argmax(cache[\"A2\"].T, axis=1)\n",
    "labels = np.argmax(Y_test, axis=1)\n",
    "\n",
    "print(classification_report(predictions, labels))"
   ]
  },
  {
   "cell_type": "code",
   "execution_count": null,
   "metadata": {},
   "outputs": [],
   "source": []
  },
  {
   "cell_type": "code",
   "execution_count": null,
   "metadata": {},
   "outputs": [],
   "source": []
  }
 ],
 "metadata": {
  "kernelspec": {
   "display_name": "Python 3",
   "language": "python",
   "name": "python3"
  },
  "language_info": {
   "codemirror_mode": {
    "name": "ipython",
    "version": 3
   },
   "file_extension": ".py",
   "mimetype": "text/x-python",
   "name": "python",
   "nbconvert_exporter": "python",
   "pygments_lexer": "ipython3",
   "version": "3.6.9"
  }
 },
 "nbformat": 4,
 "nbformat_minor": 4
}
